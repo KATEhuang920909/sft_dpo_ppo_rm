{
 "cells": [
  {
   "cell_type": "code",
   "execution_count": 1,
   "id": "6020c0af-4133-4f92-9ad2-1880374273dd",
   "metadata": {},
   "outputs": [],
   "source": [
    "import matplotlib.pyplot as plt"
   ]
  },
  {
   "cell_type": "code",
   "execution_count": null,
   "id": "8fccb5ad-1580-4c7f-8dd0-faa10f97ac12",
   "metadata": {},
   "outputs": [],
   "source": [
    "qwen_adalora1={'eval_loss': 15.124828338623047, 'eval_rouge-1': 57.803918521341465, 'eval_rouge-2': 46.14643399390244, 'eval_rouge-l': 7.31003231707317, 'eval_runtime': 1066.1938, 'eval_samples_per_second': 1.231, 'eval_steps_per_second': 0.615, 'epoch': 1.02}\n",
    "qwen_adalora1={'eval_loss': 16.420217514038086, 'eval_rouge-1': 59.550116234756096, 'eval_rouge-2': 48.443082850609755, 'eval_rouge-l': 7.468539253048781, 'eval_runtime': 1048.9051, 'eval_samples_per_second': 1.251, 'eval_steps_per_second': 0.625, 'epoch': 2.05}\n",
    "qwen_adalora1={'eval_loss': 16.45791244506836, 'eval_rouge-1': 61.83206646341462, 'eval_rouge-2': 50.794630335365845, 'eval_rouge-l': 7.60939512195122, 'eval_runtime': 1051.4476, 'eval_samples_per_second': 1.248, 'eval_steps_per_second': 0.624, 'epoch': 3.07}\n",
    "qwen_adalora1={'eval_loss': 16.96140480041504, 'eval_rouge-1': 61.950892301829256, 'eval_rouge-2': 51.163805335365865, 'eval_rouge-l': 7.599821112804878, 'eval_runtime': 1043.9542, 'eval_samples_per_second': 1.257, 'eval_steps_per_second': 0.628, 'epoch': 4.1}\n",
    "{'eval_loss': 17.18318748474121, 'eval_rouge-1': 61.39126318597561, 'eval_rouge-2': 50.513483155487805, 'eval_rouge-l': 7.62320625, 'eval_runtime': 1032.3305, 'eval_samples_per_second': 1.271, 'eval_steps_per_second': 0.635, 'epoch': 5.12}\n",
    "{'eval_loss': 18.069944381713867, 'eval_rouge-1': 59.84629733231707, 'eval_rouge-2': 49.78434588414635, 'eval_rouge-l': 7.576038490853659, 'eval_runtime': 1031.5175, 'eval_samples_per_second': 1.272, 'eval_steps_per_second': 0.636, 'epoch': 6.15}\n",
    "{'eval_loss': 18.204483032226562, 'eval_rouge-1': 62.93357393292683, 'eval_rouge-2': 51.95001333841463, 'eval_rouge-l': 7.713395960365854, 'eval_runtime': 1036.0493, 'eval_samples_per_second': 1.266, 'eval_steps_per_second': 0.633, 'epoch': 7.17}\n",
    "{'eval_loss': 18.997528076171875, 'eval_rouge-1': 62.08926890243903, 'eval_rouge-2': 51.35148795731707, 'eval_rouge-l': 7.666481402439023, 'eval_runtime': 1036.3776, 'eval_samples_per_second': 1.266, 'eval_steps_per_second': 0.633, 'epoch': 8.2}\n",
    "{'eval_loss': 19.061975479125977, 'eval_rouge-1': 62.20886996951219, 'eval_rouge-2': 51.5448980945122, 'eval_rouge-l': 7.651907240853658, 'eval_runtime': 1038.812, 'eval_samples_per_second': 1.263, 'eval_steps_per_second': 0.631, 'epoch': 9.22}\n",
    "{'eval_loss': 19.148895263671875, 'eval_model_preparation_time': 0.0263, 'eval_rouge-1': 71.75806707317074, 'eval_rouge-2': 59.34120792682927, 'eval_rouge-l': 11.761047408536585, 'eval_runtime': 2694.5625, 'eval_samples_per_second': 0.487, 'eval_steps_per_second': 0.243, 'perplexity': 207137889.78170717}\n"
   ]
  },
  {
   "cell_type": "code",
   "execution_count": null,
   "id": "aec0b61c-3c70-49ac-b6d8-47daf51fade9",
   "metadata": {},
   "outputs": [],
   "source": []
  },
  {
   "cell_type": "code",
   "execution_count": null,
   "id": "5401886b-fca5-4101-a141-c2ffac532999",
   "metadata": {},
   "outputs": [],
   "source": [
    "qlora={'eval_loss': 19.148895263671875, 'eval_model_preparation_time': 0.0263, 'eval_rouge-1': 71.75806707317074, 'eval_rouge-2': 59.34120792682927, 'eval_rouge-l': 11.761047408536585, 'eval_runtime': 2694.5625, 'eval_samples_per_second': 0.487, 'eval_steps_per_second': 0.243, 'perplexity': 207137889.78170717}\n",
    "lora={'eval_loss': 21.680273056030273, 'eval_model_preparation_time': 0.024, 'eval_rouge-1': 73.52599298780487, 'eval_rouge-2': 60.5190918445122, 'eval_rouge-l': 11.89712400914634, 'eval_runtime': 2630.6773, 'eval_samples_per_second': 0.499, 'eval_steps_per_second': 0.249, 'perplexity': 2603891922.53946}\n",
    "prefix={'eval_loss': 18.103700637817383, 'eval_model_preparation_time': 0.0102, 'eval_rouge-1': 71.32825876524392, 'eval_rouge-2': 58.59366966463415, 'eval_rouge-l': 17.857053734756096, 'eval_runtime': 2338.9914, 'eval_samples_per_second': 0.561, 'eval_steps_per_second': 0.561, 'perplexity': 72834524.45835574}\n",
    "prompt={'eval_loss': 15.00232982635498, 'eval_model_preparation_time': 0.0101, 'eval_rouge-1': 59.1176675304878, 'eval_rouge-2': 43.10900038109756, 'eval_rouge-l': 10.04795038109756, 'eval_runtime': 2049.3742, 'eval_samples_per_second': 0.64, 'eval_steps_per_second': 0.32, 'perplexity': 3276642.4944573115}\n",
    "ptuning={'eval_loss': 17.338708877563477, 'eval_model_preparation_time': 0.0102, 'eval_rouge-1': 71.12189992378048, 'eval_rouge-2': 57.70988902439024, 'eval_rouge-l': 11.528552362804877, 'eval_runtime': 1906.2812, 'eval_samples_per_second': 0.688, 'eval_steps_per_second': 0.344, 'perplexity': 33892654.84257125}\n"
   ]
  },
  {
   "cell_type": "code",
   "execution_count": null,
   "id": "d5edd994-aece-4ac2-b11a-c18634de156a",
   "metadata": {},
   "outputs": [],
   "source": []
  }
 ],
 "metadata": {
  "kernelspec": {
   "display_name": "Python 3 (ipykernel)",
   "language": "python",
   "name": "python3"
  },
  "language_info": {
   "codemirror_mode": {
    "name": "ipython",
    "version": 3
   },
   "file_extension": ".py",
   "mimetype": "text/x-python",
   "name": "python",
   "nbconvert_exporter": "python",
   "pygments_lexer": "ipython3",
   "version": "3.12.9"
  }
 },
 "nbformat": 4,
 "nbformat_minor": 5
}
